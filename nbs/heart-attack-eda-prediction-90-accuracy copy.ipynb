{
 "cells": [
  {
   "cell_type": "markdown",
   "id": "resistant-investing",
   "metadata": {
    "papermill": {
     "duration": 0.039694,
     "end_time": "2021-05-22T11:44:53.415316",
     "exception": false,
     "start_time": "2021-05-22T11:44:53.375622",
     "status": "completed"
    },
    "tags": []
   },
   "source": [
    "#### 1.1 Data Dictionary <a id=2></a>\n",
    "`age` - Age of the patient\n",
    "\n",
    "`sex` - Sex of the patient\n",
    "\n",
    "`cp` - Chest pain type ~ 0 = Typical Angina, 1 = Atypical Angina, 2 = Non-anginal Pain, 3 = Asymptomatic\n",
    "\n",
    "`trtbps` - Resting blood pressure (in mm Hg)\n",
    "\n",
    "`chol` - Cholestoral in mg/dl fetched via BMI sensor\n",
    "\n",
    "`fbs` - (fasting blood sugar > 120 mg/dl) ~ 1 = True, 0 = False\n",
    "\n",
    "`restecg` - Resting electrocardiographic results ~ 0 = Normal, 1 = ST-T wave normality, 2 = Left ventricular hypertrophy\n",
    "\n",
    "`thalachh`  - Maximum heart rate achieved\n",
    "\n",
    "`oldpeak` - Previous peak\n",
    "\n",
    "`slp` - Slope\n",
    "\n",
    "`caa` - Number of major vessels \n",
    "\n",
    "`thall` - Thalium Stress Test result ~ (0,3)\n",
    "\n",
    "`exng` - Exercise induced angina ~ 1 = Yes, 0 = No\n",
    "\n",
    "`output` - Target variable"
   ]
  },
  {
   "cell_type": "markdown",
   "id": "upset-celebrity",
   "metadata": {
    "papermill": {
     "duration": 0.039489,
     "end_time": "2021-05-22T11:44:53.654320",
     "exception": false,
     "start_time": "2021-05-22T11:44:53.614831",
     "status": "completed"
    },
    "tags": []
   },
   "source": [
    "#### 2.1 Packages <a id=5></a>"
   ]
  },
  {
   "cell_type": "code",
   "execution_count": 1,
   "id": "private-princeton",
   "metadata": {
    "_kg_hide-input": true,
    "execution": {
     "iopub.execute_input": "2021-05-22T11:44:53.740095Z",
     "iopub.status.busy": "2021-05-22T11:44:53.738405Z",
     "iopub.status.idle": "2021-05-22T11:44:54.646999Z",
     "shell.execute_reply": "2021-05-22T11:44:54.646283Z"
    },
    "papermill": {
     "duration": 0.953227,
     "end_time": "2021-05-22T11:44:54.647165",
     "exception": false,
     "start_time": "2021-05-22T11:44:53.693938",
     "status": "completed"
    },
    "tags": []
   },
   "outputs": [],
   "source": [
    "import pandas as pd\n",
    "import numpy as np\n",
    "import matplotlib.pyplot as plt\n",
    "import seaborn as sns\n",
    "\n",
    "import warnings\n",
    "warnings.filterwarnings(\"ignore\")"
   ]
  },
  {
   "cell_type": "markdown",
   "id": "everyday-response",
   "metadata": {
    "papermill": {
     "duration": 0.03915,
     "end_time": "2021-05-22T11:44:54.727875",
     "exception": false,
     "start_time": "2021-05-22T11:44:54.688725",
     "status": "completed"
    },
    "tags": []
   },
   "source": [
    "#### 2.2 Data <a id=6></a>"
   ]
  },
  {
   "cell_type": "code",
   "execution_count": 4,
   "id": "homeless-ordinary",
   "metadata": {
    "_kg_hide-input": true,
    "execution": {
     "iopub.execute_input": "2021-05-22T11:44:54.811528Z",
     "iopub.status.busy": "2021-05-22T11:44:54.810872Z",
     "iopub.status.idle": "2021-05-22T11:44:54.831455Z",
     "shell.execute_reply": "2021-05-22T11:44:54.830751Z"
    },
    "papermill": {
     "duration": 0.064551,
     "end_time": "2021-05-22T11:44:54.831596",
     "exception": false,
     "start_time": "2021-05-22T11:44:54.767045",
     "status": "completed"
    },
    "tags": []
   },
   "outputs": [],
   "source": [
    "df = pd.read_csv(r\"C:\\Users\\Wesley Ribeiro\\OneDrive\\Documentos\\previne-bem\\dados\\heart.csv\")"
   ]
  },
  {
   "cell_type": "code",
   "execution_count": 5,
   "id": "7814a364",
   "metadata": {},
   "outputs": [
    {
     "data": {
      "text/plain": [
       "array(['age', 'sex', 'cp', 'trtbps', 'chol', 'fbs', 'restecg', 'thalachh',\n",
       "       'exng', 'oldpeak', 'slp', 'caa', 'thall', 'output'], dtype=object)"
      ]
     },
     "execution_count": 5,
     "metadata": {},
     "output_type": "execute_result"
    }
   ],
   "source": [
    "df.columns.values"
   ]
  },
  {
   "cell_type": "code",
   "execution_count": 6,
   "id": "594ab72c",
   "metadata": {},
   "outputs": [
    {
     "name": "stdout",
     "output_type": "stream",
     "text": [
      "<class 'pandas.core.frame.DataFrame'>\n",
      "RangeIndex: 303 entries, 0 to 302\n",
      "Data columns (total 14 columns):\n",
      " #   Column    Non-Null Count  Dtype  \n",
      "---  ------    --------------  -----  \n",
      " 0   age       303 non-null    int64  \n",
      " 1   sex       303 non-null    int64  \n",
      " 2   cp        303 non-null    int64  \n",
      " 3   trtbps    303 non-null    int64  \n",
      " 4   chol      303 non-null    int64  \n",
      " 5   fbs       303 non-null    int64  \n",
      " 6   restecg   303 non-null    int64  \n",
      " 7   thalachh  303 non-null    int64  \n",
      " 8   exng      303 non-null    int64  \n",
      " 9   oldpeak   303 non-null    float64\n",
      " 10  slp       303 non-null    int64  \n",
      " 11  caa       303 non-null    int64  \n",
      " 12  thall     303 non-null    int64  \n",
      " 13  output    303 non-null    int64  \n",
      "dtypes: float64(1), int64(13)\n",
      "memory usage: 33.3 KB\n"
     ]
    }
   ],
   "source": [
    "df.info()"
   ]
  },
  {
   "cell_type": "code",
   "execution_count": 7,
   "id": "303f6e7e",
   "metadata": {},
   "outputs": [
    {
     "data": {
      "text/html": [
       "<div>\n",
       "<style scoped>\n",
       "    .dataframe tbody tr th:only-of-type {\n",
       "        vertical-align: middle;\n",
       "    }\n",
       "\n",
       "    .dataframe tbody tr th {\n",
       "        vertical-align: top;\n",
       "    }\n",
       "\n",
       "    .dataframe thead th {\n",
       "        text-align: right;\n",
       "    }\n",
       "</style>\n",
       "<table border=\"1\" class=\"dataframe\">\n",
       "  <thead>\n",
       "    <tr style=\"text-align: right;\">\n",
       "      <th></th>\n",
       "      <th>age</th>\n",
       "      <th>sex</th>\n",
       "      <th>cp</th>\n",
       "      <th>trtbps</th>\n",
       "      <th>chol</th>\n",
       "      <th>fbs</th>\n",
       "      <th>restecg</th>\n",
       "      <th>thalachh</th>\n",
       "      <th>exng</th>\n",
       "      <th>oldpeak</th>\n",
       "      <th>slp</th>\n",
       "      <th>caa</th>\n",
       "      <th>thall</th>\n",
       "      <th>output</th>\n",
       "    </tr>\n",
       "  </thead>\n",
       "  <tbody>\n",
       "    <tr>\n",
       "      <th>count</th>\n",
       "      <td>303.000000</td>\n",
       "      <td>303.000000</td>\n",
       "      <td>303.000000</td>\n",
       "      <td>303.000000</td>\n",
       "      <td>303.000000</td>\n",
       "      <td>303.000000</td>\n",
       "      <td>303.000000</td>\n",
       "      <td>303.000000</td>\n",
       "      <td>303.000000</td>\n",
       "      <td>303.000000</td>\n",
       "      <td>303.000000</td>\n",
       "      <td>303.000000</td>\n",
       "      <td>303.000000</td>\n",
       "      <td>303.000000</td>\n",
       "    </tr>\n",
       "    <tr>\n",
       "      <th>mean</th>\n",
       "      <td>54.366337</td>\n",
       "      <td>0.683168</td>\n",
       "      <td>0.966997</td>\n",
       "      <td>131.623762</td>\n",
       "      <td>246.264026</td>\n",
       "      <td>0.148515</td>\n",
       "      <td>0.528053</td>\n",
       "      <td>149.646865</td>\n",
       "      <td>0.326733</td>\n",
       "      <td>1.039604</td>\n",
       "      <td>1.399340</td>\n",
       "      <td>0.729373</td>\n",
       "      <td>2.313531</td>\n",
       "      <td>0.544554</td>\n",
       "    </tr>\n",
       "    <tr>\n",
       "      <th>std</th>\n",
       "      <td>9.082101</td>\n",
       "      <td>0.466011</td>\n",
       "      <td>1.032052</td>\n",
       "      <td>17.538143</td>\n",
       "      <td>51.830751</td>\n",
       "      <td>0.356198</td>\n",
       "      <td>0.525860</td>\n",
       "      <td>22.905161</td>\n",
       "      <td>0.469794</td>\n",
       "      <td>1.161075</td>\n",
       "      <td>0.616226</td>\n",
       "      <td>1.022606</td>\n",
       "      <td>0.612277</td>\n",
       "      <td>0.498835</td>\n",
       "    </tr>\n",
       "    <tr>\n",
       "      <th>min</th>\n",
       "      <td>29.000000</td>\n",
       "      <td>0.000000</td>\n",
       "      <td>0.000000</td>\n",
       "      <td>94.000000</td>\n",
       "      <td>126.000000</td>\n",
       "      <td>0.000000</td>\n",
       "      <td>0.000000</td>\n",
       "      <td>71.000000</td>\n",
       "      <td>0.000000</td>\n",
       "      <td>0.000000</td>\n",
       "      <td>0.000000</td>\n",
       "      <td>0.000000</td>\n",
       "      <td>0.000000</td>\n",
       "      <td>0.000000</td>\n",
       "    </tr>\n",
       "    <tr>\n",
       "      <th>25%</th>\n",
       "      <td>47.500000</td>\n",
       "      <td>0.000000</td>\n",
       "      <td>0.000000</td>\n",
       "      <td>120.000000</td>\n",
       "      <td>211.000000</td>\n",
       "      <td>0.000000</td>\n",
       "      <td>0.000000</td>\n",
       "      <td>133.500000</td>\n",
       "      <td>0.000000</td>\n",
       "      <td>0.000000</td>\n",
       "      <td>1.000000</td>\n",
       "      <td>0.000000</td>\n",
       "      <td>2.000000</td>\n",
       "      <td>0.000000</td>\n",
       "    </tr>\n",
       "    <tr>\n",
       "      <th>50%</th>\n",
       "      <td>55.000000</td>\n",
       "      <td>1.000000</td>\n",
       "      <td>1.000000</td>\n",
       "      <td>130.000000</td>\n",
       "      <td>240.000000</td>\n",
       "      <td>0.000000</td>\n",
       "      <td>1.000000</td>\n",
       "      <td>153.000000</td>\n",
       "      <td>0.000000</td>\n",
       "      <td>0.800000</td>\n",
       "      <td>1.000000</td>\n",
       "      <td>0.000000</td>\n",
       "      <td>2.000000</td>\n",
       "      <td>1.000000</td>\n",
       "    </tr>\n",
       "    <tr>\n",
       "      <th>75%</th>\n",
       "      <td>61.000000</td>\n",
       "      <td>1.000000</td>\n",
       "      <td>2.000000</td>\n",
       "      <td>140.000000</td>\n",
       "      <td>274.500000</td>\n",
       "      <td>0.000000</td>\n",
       "      <td>1.000000</td>\n",
       "      <td>166.000000</td>\n",
       "      <td>1.000000</td>\n",
       "      <td>1.600000</td>\n",
       "      <td>2.000000</td>\n",
       "      <td>1.000000</td>\n",
       "      <td>3.000000</td>\n",
       "      <td>1.000000</td>\n",
       "    </tr>\n",
       "    <tr>\n",
       "      <th>max</th>\n",
       "      <td>77.000000</td>\n",
       "      <td>1.000000</td>\n",
       "      <td>3.000000</td>\n",
       "      <td>200.000000</td>\n",
       "      <td>564.000000</td>\n",
       "      <td>1.000000</td>\n",
       "      <td>2.000000</td>\n",
       "      <td>202.000000</td>\n",
       "      <td>1.000000</td>\n",
       "      <td>6.200000</td>\n",
       "      <td>2.000000</td>\n",
       "      <td>4.000000</td>\n",
       "      <td>3.000000</td>\n",
       "      <td>1.000000</td>\n",
       "    </tr>\n",
       "  </tbody>\n",
       "</table>\n",
       "</div>"
      ],
      "text/plain": [
       "              age         sex          cp      trtbps        chol         fbs  \\\n",
       "count  303.000000  303.000000  303.000000  303.000000  303.000000  303.000000   \n",
       "mean    54.366337    0.683168    0.966997  131.623762  246.264026    0.148515   \n",
       "std      9.082101    0.466011    1.032052   17.538143   51.830751    0.356198   \n",
       "min     29.000000    0.000000    0.000000   94.000000  126.000000    0.000000   \n",
       "25%     47.500000    0.000000    0.000000  120.000000  211.000000    0.000000   \n",
       "50%     55.000000    1.000000    1.000000  130.000000  240.000000    0.000000   \n",
       "75%     61.000000    1.000000    2.000000  140.000000  274.500000    0.000000   \n",
       "max     77.000000    1.000000    3.000000  200.000000  564.000000    1.000000   \n",
       "\n",
       "          restecg    thalachh        exng     oldpeak         slp         caa  \\\n",
       "count  303.000000  303.000000  303.000000  303.000000  303.000000  303.000000   \n",
       "mean     0.528053  149.646865    0.326733    1.039604    1.399340    0.729373   \n",
       "std      0.525860   22.905161    0.469794    1.161075    0.616226    1.022606   \n",
       "min      0.000000   71.000000    0.000000    0.000000    0.000000    0.000000   \n",
       "25%      0.000000  133.500000    0.000000    0.000000    1.000000    0.000000   \n",
       "50%      1.000000  153.000000    0.000000    0.800000    1.000000    0.000000   \n",
       "75%      1.000000  166.000000    1.000000    1.600000    2.000000    1.000000   \n",
       "max      2.000000  202.000000    1.000000    6.200000    2.000000    4.000000   \n",
       "\n",
       "            thall      output  \n",
       "count  303.000000  303.000000  \n",
       "mean     2.313531    0.544554  \n",
       "std      0.612277    0.498835  \n",
       "min      0.000000    0.000000  \n",
       "25%      2.000000    0.000000  \n",
       "50%      2.000000    1.000000  \n",
       "75%      3.000000    1.000000  \n",
       "max      3.000000    1.000000  "
      ]
     },
     "execution_count": 7,
     "metadata": {},
     "output_type": "execute_result"
    }
   ],
   "source": [
    "df.describe()"
   ]
  },
  {
   "cell_type": "markdown",
   "id": "former-necessity",
   "metadata": {
    "papermill": {
     "duration": 0.039755,
     "end_time": "2021-05-22T11:44:54.911971",
     "exception": false,
     "start_time": "2021-05-22T11:44:54.872216",
     "status": "completed"
    },
    "tags": []
   },
   "source": [
    "#### 2.3 Understanding Data <a id=7></a>"
   ]
  },
  {
   "cell_type": "markdown",
   "id": "dental-wrestling",
   "metadata": {
    "papermill": {
     "duration": 0.040974,
     "end_time": "2021-05-22T11:44:54.993685",
     "exception": false,
     "start_time": "2021-05-22T11:44:54.952711",
     "status": "completed"
    },
    "tags": []
   },
   "source": [
    "##### 2.3.1 The shape of the data"
   ]
  },
  {
   "cell_type": "code",
   "execution_count": 8,
   "id": "dimensional-trailer",
   "metadata": {
    "_kg_hide-input": true,
    "execution": {
     "iopub.execute_input": "2021-05-22T11:44:55.078569Z",
     "iopub.status.busy": "2021-05-22T11:44:55.077872Z",
     "iopub.status.idle": "2021-05-22T11:44:55.082136Z",
     "shell.execute_reply": "2021-05-22T11:44:55.081652Z"
    },
    "papermill": {
     "duration": 0.048742,
     "end_time": "2021-05-22T11:44:55.082272",
     "exception": false,
     "start_time": "2021-05-22T11:44:55.033530",
     "status": "completed"
    },
    "tags": []
   },
   "outputs": [
    {
     "name": "stdout",
     "output_type": "stream",
     "text": [
      "The shape of the dataset is :  (303, 14)\n"
     ]
    }
   ],
   "source": [
    "print(\"The shape of the dataset is : \", df.shape)"
   ]
  },
  {
   "cell_type": "markdown",
   "id": "spare-latino",
   "metadata": {
    "papermill": {
     "duration": 0.040365,
     "end_time": "2021-05-22T11:44:55.356813",
     "exception": false,
     "start_time": "2021-05-22T11:44:55.316448",
     "status": "completed"
    },
    "tags": []
   },
   "source": [
    "##### 2.3.3 Checking the number of unique values in each column"
   ]
  },
  {
   "cell_type": "code",
   "execution_count": 9,
   "id": "detailed-coral",
   "metadata": {
    "_kg_hide-input": true,
    "execution": {
     "iopub.execute_input": "2021-05-22T11:44:55.447940Z",
     "iopub.status.busy": "2021-05-22T11:44:55.447287Z",
     "iopub.status.idle": "2021-05-22T11:44:55.462721Z",
     "shell.execute_reply": "2021-05-22T11:44:55.463155Z"
    },
    "papermill": {
     "duration": 0.063959,
     "end_time": "2021-05-22T11:44:55.463344",
     "exception": false,
     "start_time": "2021-05-22T11:44:55.399385",
     "status": "completed"
    },
    "tags": []
   },
   "outputs": [
    {
     "data": {
      "text/html": [
       "<div>\n",
       "<style scoped>\n",
       "    .dataframe tbody tr th:only-of-type {\n",
       "        vertical-align: middle;\n",
       "    }\n",
       "\n",
       "    .dataframe tbody tr th {\n",
       "        vertical-align: top;\n",
       "    }\n",
       "\n",
       "    .dataframe thead th {\n",
       "        text-align: right;\n",
       "    }\n",
       "</style>\n",
       "<table border=\"1\" class=\"dataframe\">\n",
       "  <thead>\n",
       "    <tr style=\"text-align: right;\">\n",
       "      <th></th>\n",
       "      <th>unique count</th>\n",
       "    </tr>\n",
       "  </thead>\n",
       "  <tbody>\n",
       "    <tr>\n",
       "      <th>age</th>\n",
       "      <td>41</td>\n",
       "    </tr>\n",
       "    <tr>\n",
       "      <th>sex</th>\n",
       "      <td>2</td>\n",
       "    </tr>\n",
       "    <tr>\n",
       "      <th>cp</th>\n",
       "      <td>4</td>\n",
       "    </tr>\n",
       "    <tr>\n",
       "      <th>trtbps</th>\n",
       "      <td>49</td>\n",
       "    </tr>\n",
       "    <tr>\n",
       "      <th>chol</th>\n",
       "      <td>152</td>\n",
       "    </tr>\n",
       "    <tr>\n",
       "      <th>fbs</th>\n",
       "      <td>2</td>\n",
       "    </tr>\n",
       "    <tr>\n",
       "      <th>restecg</th>\n",
       "      <td>3</td>\n",
       "    </tr>\n",
       "    <tr>\n",
       "      <th>thalachh</th>\n",
       "      <td>91</td>\n",
       "    </tr>\n",
       "    <tr>\n",
       "      <th>exng</th>\n",
       "      <td>2</td>\n",
       "    </tr>\n",
       "    <tr>\n",
       "      <th>oldpeak</th>\n",
       "      <td>40</td>\n",
       "    </tr>\n",
       "    <tr>\n",
       "      <th>slp</th>\n",
       "      <td>3</td>\n",
       "    </tr>\n",
       "    <tr>\n",
       "      <th>caa</th>\n",
       "      <td>5</td>\n",
       "    </tr>\n",
       "    <tr>\n",
       "      <th>thall</th>\n",
       "      <td>4</td>\n",
       "    </tr>\n",
       "    <tr>\n",
       "      <th>output</th>\n",
       "      <td>2</td>\n",
       "    </tr>\n",
       "  </tbody>\n",
       "</table>\n",
       "</div>"
      ],
      "text/plain": [
       "          unique count\n",
       "age                 41\n",
       "sex                  2\n",
       "cp                   4\n",
       "trtbps              49\n",
       "chol               152\n",
       "fbs                  2\n",
       "restecg              3\n",
       "thalachh            91\n",
       "exng                 2\n",
       "oldpeak             40\n",
       "slp                  3\n",
       "caa                  5\n",
       "thall                4\n",
       "output               2"
      ]
     },
     "execution_count": 9,
     "metadata": {},
     "output_type": "execute_result"
    }
   ],
   "source": [
    "dict = {}\n",
    "for i in list(df.columns):\n",
    "    dict[i] = df[i].value_counts().shape[0]\n",
    "\n",
    "pd.DataFrame(dict,index=[\"unique count\"]).transpose()"
   ]
  },
  {
   "cell_type": "markdown",
   "id": "certain-secretary",
   "metadata": {
    "papermill": {
     "duration": 0.040985,
     "end_time": "2021-05-22T11:44:55.545229",
     "exception": false,
     "start_time": "2021-05-22T11:44:55.504244",
     "status": "completed"
    },
    "tags": []
   },
   "source": [
    "##### 2.3.4 Separating the columns in categorical and continuous"
   ]
  },
  {
   "cell_type": "code",
   "execution_count": 10,
   "id": "alternate-translator",
   "metadata": {
    "_kg_hide-input": true,
    "execution": {
     "iopub.execute_input": "2021-05-22T11:44:55.634261Z",
     "iopub.status.busy": "2021-05-22T11:44:55.633631Z",
     "iopub.status.idle": "2021-05-22T11:44:55.637381Z",
     "shell.execute_reply": "2021-05-22T11:44:55.638103Z"
    },
    "papermill": {
     "duration": 0.051857,
     "end_time": "2021-05-22T11:44:55.638330",
     "exception": false,
     "start_time": "2021-05-22T11:44:55.586473",
     "status": "completed"
    },
    "tags": []
   },
   "outputs": [
    {
     "name": "stdout",
     "output_type": "stream",
     "text": [
      "The categorial cols are :  ['sex', 'exng', 'caa', 'cp', 'fbs', 'restecg', 'slp', 'thall']\n",
      "The continuous cols are :  ['age', 'trtbps', 'chol', 'thalachh', 'oldpeak']\n",
      "The target variable is :   ['output']\n"
     ]
    }
   ],
   "source": [
    "cat_cols = ['sex','exng','caa','cp','fbs','restecg','slp','thall']\n",
    "con_cols = [\"age\",\"trtbps\",\"chol\",\"thalachh\",\"oldpeak\"]\n",
    "target_col = [\"output\"]\n",
    "print(\"The categorial cols are : \", cat_cols)\n",
    "print(\"The continuous cols are : \", con_cols)\n",
    "print(\"The target variable is :  \", target_col)"
   ]
  },
  {
   "cell_type": "markdown",
   "id": "dutch-threshold",
   "metadata": {
    "papermill": {
     "duration": 0.08501,
     "end_time": "2021-05-22T11:45:50.145040",
     "exception": false,
     "start_time": "2021-05-22T11:45:50.060030",
     "status": "completed"
    },
    "tags": []
   },
   "source": [
    "#### 4.2 Packages <a id=13></a>"
   ]
  },
  {
   "cell_type": "code",
   "execution_count": 11,
   "id": "killing-welsh",
   "metadata": {
    "_kg_hide-input": true,
    "execution": {
     "iopub.execute_input": "2021-05-22T11:45:50.320500Z",
     "iopub.status.busy": "2021-05-22T11:45:50.319805Z",
     "iopub.status.idle": "2021-05-22T11:45:52.152870Z",
     "shell.execute_reply": "2021-05-22T11:45:52.152202Z"
    },
    "papermill": {
     "duration": 1.922191,
     "end_time": "2021-05-22T11:45:52.153008",
     "exception": false,
     "start_time": "2021-05-22T11:45:50.230817",
     "status": "completed"
    },
    "tags": []
   },
   "outputs": [
    {
     "name": "stdout",
     "output_type": "stream",
     "text": [
      "Packages imported...\n"
     ]
    }
   ],
   "source": [
    "# Scaling\n",
    "from sklearn.preprocessing import RobustScaler, StandardScaler, OneHotEncoder\n",
    "\n",
    "# Train Test Split\n",
    "from sklearn.model_selection import train_test_split\n",
    "\n",
    "# Models\n",
    "import torch\n",
    "import torch.nn as nn\n",
    "from sklearn.svm import SVC\n",
    "from sklearn.linear_model import LogisticRegression\n",
    "from sklearn.ensemble import RandomForestClassifier\n",
    "from sklearn.tree import DecisionTreeClassifier\n",
    "from sklearn.ensemble import GradientBoostingClassifier\n",
    "from sklearn.compose import ColumnTransformer\n",
    "\n",
    "# Metrics\n",
    "from sklearn.metrics import accuracy_score, classification_report, roc_curve\n",
    "\n",
    "# Cross Validation\n",
    "from sklearn.model_selection import cross_val_score\n",
    "from sklearn.model_selection import GridSearchCV\n",
    "\n",
    "from imblearn.pipeline import Pipeline as imbPipeline\n",
    "\n",
    "print('Packages imported...')"
   ]
  },
  {
   "cell_type": "markdown",
   "id": "contained-guyana",
   "metadata": {
    "papermill": {
     "duration": 0.084943,
     "end_time": "2021-05-22T11:45:52.323419",
     "exception": false,
     "start_time": "2021-05-22T11:45:52.238476",
     "status": "completed"
    },
    "tags": []
   },
   "source": [
    "\n",
    "#### 4.3 Making features model ready <a id=14></a>"
   ]
  },
  {
   "cell_type": "markdown",
   "id": "backed-alexander",
   "metadata": {
    "papermill": {
     "duration": 0.085742,
     "end_time": "2021-05-22T11:45:52.495626",
     "exception": false,
     "start_time": "2021-05-22T11:45:52.409884",
     "status": "completed"
    },
    "tags": []
   },
   "source": [
    "##### 4.3.1 Scaling and Encoding features"
   ]
  },
  {
   "cell_type": "code",
   "execution_count": 12,
   "id": "black-grill",
   "metadata": {
    "_kg_hide-input": true,
    "execution": {
     "iopub.execute_input": "2021-05-22T11:45:52.678234Z",
     "iopub.status.busy": "2021-05-22T11:45:52.677190Z",
     "iopub.status.idle": "2021-05-22T11:45:52.716073Z",
     "shell.execute_reply": "2021-05-22T11:45:52.715535Z"
    },
    "papermill": {
     "duration": 0.135072,
     "end_time": "2021-05-22T11:45:52.716208",
     "exception": false,
     "start_time": "2021-05-22T11:45:52.581136",
     "status": "completed"
    },
    "tags": []
   },
   "outputs": [],
   "source": [
    "# creating a copy of df\n",
    "df1 = df\n",
    "\n",
    "# define the columns to be encoded and scaled\n",
    "cat_cols = ['sex','exng','caa','cp','fbs','restecg','slp','thall']\n",
    "con_cols = [\"age\",\"trtbps\",\"chol\",\"thalachh\",\"oldpeak\"]\n",
    "\n",
    "# # encoding the categorical columns\n",
    "# df1 = pd.get_dummies(df1, columns = cat_cols, drop_first = True)\n",
    "\n",
    "# # defining the features and target\n",
    "# X = df1.drop(['output'],axis=1)\n",
    "# y = df1[['output']]\n",
    "\n",
    "# # instantiating the scaler\n",
    "# scaler = RobustScaler()\n",
    "\n",
    "# # scaling the continuous featuree\n",
    "# X[con_cols] = scaler.fit_transform(X[con_cols])\n",
    "# print(\"The first 5 rows of X are\")\n",
    "# X.columns"
   ]
  },
  {
   "cell_type": "code",
   "execution_count": 14,
   "id": "7a98ab09",
   "metadata": {},
   "outputs": [],
   "source": [
    "# Define preprocessor\n",
    "preprocessor = ColumnTransformer(\n",
    "    transformers=[\n",
    "        ('num', StandardScaler(), con_cols),\n",
    "        ('cat', OneHotEncoder(), cat_cols)\n",
    "    ])\n",
    "\n",
    "# Split data into features and target variable\n",
    "X = df1.drop('output', axis=1)\n",
    "y = df1['output']"
   ]
  },
  {
   "cell_type": "code",
   "execution_count": 15,
   "id": "8fbef3c1",
   "metadata": {},
   "outputs": [],
   "source": [
    "# Create a pipeline that preprocesses the data, resamples data, and then trains a classifier\n",
    "logreg = imbPipeline(steps=[('preprocessor', preprocessor),\n",
    "                      ('logreg', LogisticRegression())])"
   ]
  },
  {
   "cell_type": "markdown",
   "id": "quiet-ground",
   "metadata": {
    "papermill": {
     "duration": 0.08906,
     "end_time": "2021-05-22T11:45:52.893784",
     "exception": false,
     "start_time": "2021-05-22T11:45:52.804724",
     "status": "completed"
    },
    "tags": []
   },
   "source": [
    "##### 4.3.2 Train and test split"
   ]
  },
  {
   "cell_type": "code",
   "execution_count": 16,
   "id": "human-halloween",
   "metadata": {
    "_kg_hide-input": true,
    "execution": {
     "iopub.execute_input": "2021-05-22T11:45:53.081873Z",
     "iopub.status.busy": "2021-05-22T11:45:53.081112Z",
     "iopub.status.idle": "2021-05-22T11:45:53.087419Z",
     "shell.execute_reply": "2021-05-22T11:45:53.086347Z"
    },
    "papermill": {
     "duration": 0.104709,
     "end_time": "2021-05-22T11:45:53.087647",
     "exception": false,
     "start_time": "2021-05-22T11:45:52.982938",
     "status": "completed"
    },
    "tags": []
   },
   "outputs": [
    {
     "name": "stdout",
     "output_type": "stream",
     "text": [
      "The shape of X_train is       (242, 13)\n",
      "The shape of X_test is        (61, 13)\n",
      "The shape of y_train is       (242,)\n",
      "The shape of y_test is        (61,)\n"
     ]
    }
   ],
   "source": [
    "X_train, X_test, y_train, y_test = train_test_split(X,y, test_size = 0.2, random_state = 42)\n",
    "print(\"The shape of X_train is      \", X_train.shape)\n",
    "print(\"The shape of X_test is       \",X_test.shape)\n",
    "print(\"The shape of y_train is      \",y_train.shape)\n",
    "print(\"The shape of y_test is       \",y_test.shape)"
   ]
  },
  {
   "cell_type": "markdown",
   "id": "thrown-execution",
   "metadata": {
    "papermill": {
     "duration": 0.091162,
     "end_time": "2021-05-22T11:45:59.031614",
     "exception": false,
     "start_time": "2021-05-22T11:45:58.940452",
     "status": "completed"
    },
    "tags": []
   },
   "source": [
    "##### 5.1.3 Logistic Regression"
   ]
  },
  {
   "cell_type": "code",
   "execution_count": 17,
   "id": "4b853864",
   "metadata": {},
   "outputs": [
    {
     "name": "stdout",
     "output_type": "stream",
     "text": [
      "The test accuracy score of Logistric Regression is  0.8852459016393442\n"
     ]
    }
   ],
   "source": [
    "# instantiating the object\n",
    "# logreg = LogisticRegression()\n",
    "\n",
    "# fitting the object\n",
    "logreg.fit(X_train, y_train)\n",
    "\n",
    "# calculating the probabilities\n",
    "y_pred_proba = logreg.predict_proba(X_test)\n",
    "\n",
    "# finding the predicted valued\n",
    "y_pred = np.argmax(y_pred_proba,axis=1)\n",
    "\n",
    "# printing the test accuracy\n",
    "print(\"The test accuracy score of Logistric Regression is \", accuracy_score(y_test, y_pred))"
   ]
  },
  {
   "cell_type": "code",
   "execution_count": 18,
   "id": "bdcc931b",
   "metadata": {},
   "outputs": [
    {
     "data": {
      "text/plain": [
       "array([0, 1, 1, 0, 1, 1, 1, 0, 0, 0, 1, 0, 1, 0, 1, 1, 1, 0, 0, 0, 1, 0,\n",
       "       0, 1, 1, 1, 1, 1, 0, 1, 0, 0, 0, 0, 1, 0, 1, 1, 1, 1, 1, 1, 1, 1,\n",
       "       1, 0, 0, 1, 0, 0, 0, 0, 1, 1, 0, 0, 0, 1, 0, 0, 0], dtype=int64)"
      ]
     },
     "execution_count": 18,
     "metadata": {},
     "output_type": "execute_result"
    }
   ],
   "source": [
    "y_pred"
   ]
  },
  {
   "cell_type": "code",
   "execution_count": 19,
   "id": "571427c3",
   "metadata": {},
   "outputs": [
    {
     "data": {
      "text/plain": [
       "array([[0.98500435, 0.01499565],\n",
       "       [0.47509571, 0.52490429],\n",
       "       [0.34598742, 0.65401258],\n",
       "       [0.98832553, 0.01167447],\n",
       "       [0.04279064, 0.95720936],\n",
       "       [0.05699215, 0.94300785],\n",
       "       [0.38566788, 0.61433212],\n",
       "       [0.99755234, 0.00244766],\n",
       "       [0.99431434, 0.00568566],\n",
       "       [0.52886763, 0.47113237],\n",
       "       [0.44570652, 0.55429348],\n",
       "       [0.87677933, 0.12322067],\n",
       "       [0.05380347, 0.94619653],\n",
       "       [0.95482713, 0.04517287],\n",
       "       [0.00823325, 0.99176675],\n",
       "       [0.0410098 , 0.9589902 ],\n",
       "       [0.01447998, 0.98552002],\n",
       "       [0.97334437, 0.02665563],\n",
       "       [0.99684524, 0.00315476],\n",
       "       [0.99232964, 0.00767036],\n",
       "       [0.48728507, 0.51271493],\n",
       "       [0.9320271 , 0.0679729 ],\n",
       "       [0.59781332, 0.40218668],\n",
       "       [0.25516769, 0.74483231],\n",
       "       [0.18956541, 0.81043459],\n",
       "       [0.40085989, 0.59914011],\n",
       "       [0.07823661, 0.92176339],\n",
       "       [0.32844125, 0.67155875],\n",
       "       [0.97953226, 0.02046774],\n",
       "       [0.03777036, 0.96222964],\n",
       "       [0.98442224, 0.01557776],\n",
       "       [0.98219127, 0.01780873],\n",
       "       [0.99495223, 0.00504777],\n",
       "       [0.85729652, 0.14270348],\n",
       "       [0.09334519, 0.90665481],\n",
       "       [0.97796809, 0.02203191],\n",
       "       [0.20747633, 0.79252367],\n",
       "       [0.14559088, 0.85440912],\n",
       "       [0.2937579 , 0.7062421 ],\n",
       "       [0.11798957, 0.88201043],\n",
       "       [0.05056557, 0.94943443],\n",
       "       [0.12945278, 0.87054722],\n",
       "       [0.05460815, 0.94539185],\n",
       "       [0.27705593, 0.72294407],\n",
       "       [0.14994518, 0.85005482],\n",
       "       [0.92475643, 0.07524357],\n",
       "       [0.64683447, 0.35316553],\n",
       "       [0.02516562, 0.97483438],\n",
       "       [0.97663785, 0.02336215],\n",
       "       [0.99450415, 0.00549585],\n",
       "       [0.94739909, 0.05260091],\n",
       "       [0.98510257, 0.01489743],\n",
       "       [0.29011902, 0.70988098],\n",
       "       [0.03464158, 0.96535842],\n",
       "       [0.88034452, 0.11965548],\n",
       "       [0.99045   , 0.00955   ],\n",
       "       [0.89675939, 0.10324061],\n",
       "       [0.02303949, 0.97696051],\n",
       "       [0.98870383, 0.01129617],\n",
       "       [0.99805626, 0.00194374],\n",
       "       [0.95543864, 0.04456136]])"
      ]
     },
     "execution_count": 19,
     "metadata": {},
     "output_type": "execute_result"
    }
   ],
   "source": [
    "y_pred_proba"
   ]
  },
  {
   "cell_type": "code",
   "execution_count": 20,
   "id": "0f331226",
   "metadata": {},
   "outputs": [
    {
     "ename": "NameError",
     "evalue": "name 'f' is not defined",
     "output_type": "error",
     "traceback": [
      "\u001b[1;31m---------------------------------------------------------------------------\u001b[0m",
      "\u001b[1;31mNameError\u001b[0m                                 Traceback (most recent call last)",
      "\u001b[1;32mc:\\Users\\Wesley Ribeiro\\OneDrive\\Documentos\\previne-bem\\nbs\\heart-attack-eda-prediction-90-accuracy copy.ipynb Cell 29\u001b[0m line \u001b[0;36m1\n\u001b[1;32m----> <a href='vscode-notebook-cell:/c%3A/Users/Wesley%20Ribeiro/OneDrive/Documentos/previne-bem/nbs/heart-attack-eda-prediction-90-accuracy%20copy.ipynb#X45sZmlsZQ%3D%3D?line=0'>1</a>\u001b[0m f\n",
      "\u001b[1;31mNameError\u001b[0m: name 'f' is not defined"
     ]
    }
   ],
   "source": [
    "f"
   ]
  },
  {
   "cell_type": "code",
   "execution_count": 21,
   "id": "27501524",
   "metadata": {},
   "outputs": [],
   "source": [
    "import os\n",
    "import pickle"
   ]
  },
  {
   "cell_type": "code",
   "execution_count": 22,
   "id": "277ad93a",
   "metadata": {},
   "outputs": [],
   "source": [
    "pickle.dump(logreg, open( os.path.join('../models', \"model_ha.pkl\"), \"wb\" ))"
   ]
  },
  {
   "cell_type": "code",
   "execution_count": null,
   "id": "e5ab7b18",
   "metadata": {},
   "outputs": [],
   "source": []
  }
 ],
 "metadata": {
  "kernelspec": {
   "display_name": "Python 3",
   "language": "python",
   "name": "python3"
  },
  "language_info": {
   "codemirror_mode": {
    "name": "ipython",
    "version": 3
   },
   "file_extension": ".py",
   "mimetype": "text/x-python",
   "name": "python",
   "nbconvert_exporter": "python",
   "pygments_lexer": "ipython3",
   "version": "3.9.12"
  },
  "papermill": {
   "default_parameters": {},
   "duration": 75.74048,
   "end_time": "2021-05-22T11:46:02.885127",
   "environment_variables": {},
   "exception": null,
   "input_path": "__notebook__.ipynb",
   "output_path": "__notebook__.ipynb",
   "parameters": {},
   "start_time": "2021-05-22T11:44:47.144647",
   "version": "2.3.2"
  }
 },
 "nbformat": 4,
 "nbformat_minor": 5
}
